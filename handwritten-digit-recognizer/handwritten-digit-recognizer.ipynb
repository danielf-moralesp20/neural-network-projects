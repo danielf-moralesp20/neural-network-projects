{
  "nbformat": 4,
  "nbformat_minor": 0,
  "metadata": {
    "colab": {
      "provenance": [],
      "mount_file_id": "1R9mdp9zv8RB9KD3cpWUwqW1RWx9CRdX4",
      "authorship_tag": "ABX9TyPP9mwM0CCse+N/SplPJPdH",
      "include_colab_link": true
    },
    "kernelspec": {
      "name": "python3",
      "display_name": "Python 3"
    },
    "language_info": {
      "name": "python"
    }
  },
  "cells": [
    {
      "cell_type": "markdown",
      "metadata": {
        "id": "view-in-github",
        "colab_type": "text"
      },
      "source": [
        "<a href=\"https://colab.research.google.com/github/danielf-moralesp20/neural-network-projects/blob/main/handwritten-digit-recognizer/handwritten-digit-recognizer.ipynb\" target=\"_parent\"><img src=\"https://colab.research.google.com/assets/colab-badge.svg\" alt=\"Open In Colab\"/></a>"
      ]
    },
    {
      "cell_type": "code",
      "execution_count": 58,
      "metadata": {
        "id": "ak_4TJx1pGil"
      },
      "outputs": [],
      "source": [
        "import tensorflow_datasets as tfds"
      ]
    },
    {
      "cell_type": "code",
      "source": [
        "(train_ds, val_ds, test_ds), metadata = tfds.load(\n",
        "    'mnist',\n",
        "    split=['train[:80%]+test[:80%]', 'train[80%:90%]+test[80%:90%]', 'train[90%:]+test[90%:]'],\n",
        "    shuffle_files=True,\n",
        "    with_info=True,\n",
        "    as_supervised=True,\n",
        ")"
      ],
      "metadata": {
        "id": "IkXGEdlIpKqY"
      },
      "execution_count": 59,
      "outputs": []
    }
  ]
}