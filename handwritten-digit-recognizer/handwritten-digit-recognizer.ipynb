{
  "nbformat": 4,
  "nbformat_minor": 0,
  "metadata": {
    "colab": {
      "provenance": [],
      "toc_visible": true,
      "mount_file_id": "1R9mdp9zv8RB9KD3cpWUwqW1RWx9CRdX4",
      "authorship_tag": "ABX9TyPgNJtJSq5U0BxaqESuUbQm",
      "include_colab_link": true
    },
    "kernelspec": {
      "name": "python3",
      "display_name": "Python 3"
    },
    "language_info": {
      "name": "python"
    }
  },
  "cells": [
    {
      "cell_type": "markdown",
      "metadata": {
        "id": "view-in-github",
        "colab_type": "text"
      },
      "source": [
        "<a href=\"https://colab.research.google.com/github/danielf-moralesp20/neural-network-projects/blob/main/handwritten-digit-recognizer/handwritten-digit-recognizer.ipynb\" target=\"_parent\"><img src=\"https://colab.research.google.com/assets/colab-badge.svg\" alt=\"Open In Colab\"/></a>"
      ]
    },
    {
      "cell_type": "code",
      "execution_count": 1,
      "metadata": {
        "id": "ak_4TJx1pGil"
      },
      "outputs": [],
      "source": [
        "import matplotlib.pyplot as plt\n",
        "import os\n",
        "import pandas as pd\n",
        "import tensorflow_datasets as tfds\n",
        "import tensorflow as tf\n",
        "\n",
        "from sklearn.metrics import classification_report\n",
        "from tensorflow.keras import models\n",
        "from tensorflow.keras.callbacks import EarlyStopping, ModelCheckpoint\n",
        "from tensorflow.keras.layers import Conv2D, Dense, Dropout, Flatten, MaxPooling2D, Rescaling, Resizing, Input\n",
        "from tensorflow.keras.models import Sequential\n",
        "from tensorflow.math import confusion_matrix\n",
        "from tensorflow.python.framework.ops import enable_eager_execution\n",
        "\n",
        "enable_eager_execution()"
      ]
    },
    {
      "cell_type": "markdown",
      "source": [
        "# Data loading"
      ],
      "metadata": {
        "id": "LYgCd7bqO65T"
      }
    },
    {
      "cell_type": "code",
      "source": [
        "(train_ds, val_ds, test_ds), metadata = tfds.load(\n",
        "    'mnist',\n",
        "    split=['train[:80%]+test[:80%]', 'train[80%:90%]+test[80%:90%]', 'train[90%:]+test[90%:]'],\n",
        "    shuffle_files=True,\n",
        "    as_supervised=True,\n",
        "    with_info=True\n",
        ")"
      ],
      "metadata": {
        "id": "IkXGEdlIpKqY"
      },
      "execution_count": 2,
      "outputs": []
    },
    {
      "cell_type": "code",
      "source": [
        "print('Image dimensions: ' + str(metadata.features['image'].shape))\n",
        "print('Image type: ' + str(metadata.features['image'].dtype), end='\\n\\n')\n",
        "\n",
        "print('Number of classes: ' + str(metadata.features['label'].num_classes))"
      ],
      "metadata": {
        "colab": {
          "base_uri": "https://localhost:8080/"
        },
        "id": "AJrDUtxTO2_O",
        "outputId": "b78e4c32-0cdb-45de-e687-c3fe5811c05c"
      },
      "execution_count": 3,
      "outputs": [
        {
          "output_type": "stream",
          "name": "stderr",
          "text": [
            "WARNING:absl:`FeatureConnector.dtype` is deprecated. Please change your code to use NumPy with the field `FeatureConnector.np_dtype` or use TensorFlow with the field `FeatureConnector.tf_dtype`.\n"
          ]
        },
        {
          "output_type": "stream",
          "name": "stdout",
          "text": [
            "Image dimensions: (28, 28, 1)\n",
            "Image type: <dtype: 'uint8'>\n",
            "\n",
            "Number of classes: 10\n"
          ]
        }
      ]
    },
    {
      "cell_type": "markdown",
      "source": [
        "# Data overview"
      ],
      "metadata": {
        "id": "EIVPeM1ISw42"
      }
    },
    {
      "cell_type": "code",
      "source": [
        "tfds.as_dataframe(train_ds.take(7), metadata)"
      ],
      "metadata": {
        "colab": {
          "base_uri": "https://localhost:8080/",
          "height": 295
        },
        "id": "IRClj04H78Wp",
        "outputId": "847ba048-cf0c-47e6-b3c0-16c9a181cae0"
      },
      "execution_count": 4,
      "outputs": [
        {
          "output_type": "execute_result",
          "data": {
            "text/plain": [
              "                                               image  label\n",
              "0  [[[0], [0], [0], [0], [0], [0], [0], [0], [0],...      2\n",
              "1  [[[0], [0], [0], [0], [0], [0], [0], [0], [0],...      4\n",
              "2  [[[0], [0], [0], [0], [0], [0], [0], [0], [0],...      1\n",
              "3  [[[0], [0], [0], [0], [0], [0], [0], [0], [0],...      0\n",
              "4  [[[0], [0], [0], [0], [0], [0], [0], [0], [0],...      7\n",
              "5  [[[0], [0], [0], [0], [0], [0], [0], [0], [0],...      8\n",
              "6  [[[0], [0], [0], [0], [0], [0], [0], [0], [0],...      1"
            ],
            "text/html": [
              "\n",
              "  <div id=\"df-694e3f88-e67a-4bdc-89b7-6ad138f918db\">\n",
              "    <div class=\"colab-df-container\">\n",
              "      <style type=\"text/css\">\n",
              "</style>\n",
              "<table id=\"T_33d5e\">\n",
              "  <thead>\n",
              "    <tr>\n",
              "      <th class=\"blank level0\" >&nbsp;</th>\n",
              "      <th id=\"T_33d5e_level0_col0\" class=\"col_heading level0 col0\" >image</th>\n",
              "      <th id=\"T_33d5e_level0_col1\" class=\"col_heading level0 col1\" >label</th>\n",
              "    </tr>\n",
              "  </thead>\n",
              "  <tbody>\n",
              "    <tr>\n",
              "      <th id=\"T_33d5e_level0_row0\" class=\"row_heading level0 row0\" >0</th>\n",
              "      <td id=\"T_33d5e_row0_col0\" class=\"data row0 col0\" ><img src=\"data:image/png;base64,iVBORw0KGgoAAAANSUhEUgAAABwAAAAcCAAAAABXZoBIAAABKUlEQVR4nMXSvUvDUBQF8FModhMpBCwugsVBcaztYh3cCi4Sh24OgpN/QFGyCLoJYlEwLuLi1LGiaJyCuoooCnHwg0ZolQo2iOdSh4j5qFn1Do/H/d0Lh8cD/r5ina1UkjdR4+kHOqu/9PPP9orZFNI56rAeS0jeq+olq2EbPaRQL/UC11wHAMQ9LEzALD4BQDL2Et6c3lt0L7MOh6LiwuBBPMqyNtUoG6nT6A71hhfORdpyVq63X/NBUg0hSfcoBm2qRbu2rA0qmyRlPLjXog4A0GySstUVzK4nAPRtCE8nK8J5n43JFYD+mVtxljJAQ058afepIT3XIKsZAMjWuOuh8Nhsyvtd7vtdKp9W4Qe3yYs1NedN77AEwP0miQE8vvkDKor1gX+qLzJ5h2u3m395AAAAAElFTkSuQmCC\" alt=\"Img\" /></td>\n",
              "      <td id=\"T_33d5e_row0_col1\" class=\"data row0 col1\" >2</td>\n",
              "    </tr>\n",
              "    <tr>\n",
              "      <th id=\"T_33d5e_level0_row1\" class=\"row_heading level0 row1\" >1</th>\n",
              "      <td id=\"T_33d5e_row1_col0\" class=\"data row1 col0\" ><img src=\"data:image/png;base64,iVBORw0KGgoAAAANSUhEUgAAABwAAAAcCAAAAABXZoBIAAAAzElEQVR4nGNgGPQg5F8qjMmEIRn1XwinRvnvp2QxdTIyMjAwMDDksd17jCnpeN6CgYGBQZfhAhbzLP+WMzAwyPz8IAkXQuh8ycDAwMAQyHr1ORZJYQYGBgYGKYYDDFgkAxgZGBikMxnnISQZYQz2J0KXjwvpqV00+YfpnsS/f//++/v3bxiSGAuMYfp97rN3b1cz7MDiEQgI+bcGmYsatlH/T+PUyPD2jwVOOaOP23Br3P3vZyZOO///v7qGARd4/EkBt7FvbuOWoyIAAPBxN9oBRuu9AAAAAElFTkSuQmCC\" alt=\"Img\" /></td>\n",
              "      <td id=\"T_33d5e_row1_col1\" class=\"data row1 col1\" >4</td>\n",
              "    </tr>\n",
              "    <tr>\n",
              "      <th id=\"T_33d5e_level0_row2\" class=\"row_heading level0 row2\" >2</th>\n",
              "      <td id=\"T_33d5e_row2_col0\" class=\"data row2 col0\" ><img src=\"data:image/png;base64,iVBORw0KGgoAAAANSUhEUgAAABwAAAAcCAAAAABXZoBIAAAAmklEQVR4nGNgGOyAc/5KJlxyjIv+/TPEJan9798HWRgH3YhQBoZHj3HpfP/vVxQuOYF//54ieGjGNjEwXMalkeHbv3+eeCTfseAy1oCVYeofXBp3/f8lgUtO/su/azhtnPLvXwJOycv//uGU0//5bx1OySP//hngkuN5+u8tG4oIkj/VJBmO/8Il6cvAMBunlSIvX3DjlKQmAACHtTHZmy2LVAAAAABJRU5ErkJggg==\" alt=\"Img\" /></td>\n",
              "      <td id=\"T_33d5e_row2_col1\" class=\"data row2 col1\" >1</td>\n",
              "    </tr>\n",
              "    <tr>\n",
              "      <th id=\"T_33d5e_level0_row3\" class=\"row_heading level0 row3\" >3</th>\n",
              "      <td id=\"T_33d5e_row3_col0\" class=\"data row3 col0\" ><img src=\"data:image/png;base64,iVBORw0KGgoAAAANSUhEUgAAABwAAAAcCAAAAABXZoBIAAAA+0lEQVR4nM3QvyuEARzH8feVniSFiTBcKf8A85ESNqwkdbeY5NdmY/UXiM0z+Ad0SXZ1g0vJjw0Xi86pc13eD8NleJ47q3zG76tv3x/wJxk+jQ7bf8NldT9obdNl1fWW1nGh6mtLPIm0oJVWlvuIvOvMWx1qtqWa0U2aULNNNnCtT+MQapi0waK6CoR6mcS8Wuhq4Fqj1PZjU5NQnX0DUine433dD1qZBwjOrM/EsVc9AmCj6c5MWT8XADjX2mgMi+otABN1k0/YVncAFu/VLWLbPgNBduRxLBMQHe/FZ+Zs5EtLm8kP9F81MHrZTScNelZK6sFcXzP9o3wDadaKxdoXqEQAAAAASUVORK5CYII=\" alt=\"Img\" /></td>\n",
              "      <td id=\"T_33d5e_row3_col1\" class=\"data row3 col1\" >0</td>\n",
              "    </tr>\n",
              "    <tr>\n",
              "      <th id=\"T_33d5e_level0_row4\" class=\"row_heading level0 row4\" >4</th>\n",
              "      <td id=\"T_33d5e_row4_col0\" class=\"data row4 col0\" ><img src=\"data:image/png;base64,iVBORw0KGgoAAAANSUhEUgAAABwAAAAcCAAAAABXZoBIAAAA40lEQVR4nGNgGJpg//8OdCEWKM2obvgv/++6/zcZnJQebPuNqkjvLxI4IIgiJ3/v79/3b//9/fvv7993f/9NQzE2TZ6hc8J3JwYGBgaGK7cYeJE12n79+1cCxlH9+/cVB5LOlxy/pryHSUYyMO78gSR5W/vzU7gxfAz/cfq36fvfDw445Fr+/P3bg12KMebb37+7WbDKKSz89/fvNRmscjpb//79u0YBq5z0yb9//2bhcEvXv78fs1ixyzX//PsuHYc+gbvwAMcEmX//3kFzJxOc9YCRoesJLp3sx9+p4JIjGQAAnrpmBs0pxioAAAAASUVORK5CYII=\" alt=\"Img\" /></td>\n",
              "      <td id=\"T_33d5e_row4_col1\" class=\"data row4 col1\" >7</td>\n",
              "    </tr>\n",
              "    <tr>\n",
              "      <th id=\"T_33d5e_level0_row5\" class=\"row_heading level0 row5\" >5</th>\n",
              "      <td id=\"T_33d5e_row5_col0\" class=\"data row5 col0\" ><img src=\"data:image/png;base64,iVBORw0KGgoAAAANSUhEUgAAABwAAAAcCAAAAABXZoBIAAABRUlEQVR4nM2RMUgCcRTGvwvFjjiuhqgIpG4Kg8QaQi6aWoo2JXAot6ZokxwdGxybWjJoapLCQRoaJBKkoIJuKDc7DAruIEmH967hvPJ/Nkdv+vh+fI//+/7Afxglyy+qK6UeW1MSg5p2twVp4lUMhGYuLSYiJiIec72AlzqNAVf1klUGYLaF3BqzXdQBbLJtc0Fgsx26ngQARA72miQLMEU08qM/PDkAAIgBC56TQV58apSZ+ex4Pw6k2fQdHly9fSYi7phmi6pRz/4uQZleVyUnPSo5wEPmAv2zYlFto9BgS+tnuRZXNGCJec6PgiWmExXALt8HRDS+U3n6zMkAhgxOCUg+YqJyEgAQp4bayxZr7OS7HYXfebtru8sT8w4MJQwAena4fihsjRjE9Ob+Zftc8ZUQWtan5KTkPN40i9VfCvi7+QIpz4HjFNztwwAAAABJRU5ErkJggg==\" alt=\"Img\" /></td>\n",
              "      <td id=\"T_33d5e_row5_col1\" class=\"data row5 col1\" >8</td>\n",
              "    </tr>\n",
              "    <tr>\n",
              "      <th id=\"T_33d5e_level0_row6\" class=\"row_heading level0 row6\" >6</th>\n",
              "      <td id=\"T_33d5e_row6_col0\" class=\"data row6 col0\" ><img src=\"data:image/png;base64,iVBORw0KGgoAAAANSUhEUgAAABwAAAAcCAAAAABXZoBIAAAAq0lEQVR4nGNgGHjAfvqtEU5Jib9/L7LDOExokvUMDHyiODQG/fv7dyuch6ZTg4HhWTIuK6/9+1uL4KHqjFRlYHiMS+PVv/9e8OHSKcjAMOETDo2xf/5+ZkXisyBLujAx/P6NQ6Phu79/q5AFkO1U4Wdg2IJLkoGBgcEah6kMa/7+/YviVmSdSuiq0Y1dj8NU++9//57HpZOLjYFhK4okUiDsLnS5ewiXY+kGAAwdLIh/5zVbAAAAAElFTkSuQmCC\" alt=\"Img\" /></td>\n",
              "      <td id=\"T_33d5e_row6_col1\" class=\"data row6 col1\" >1</td>\n",
              "    </tr>\n",
              "  </tbody>\n",
              "</table>\n",
              "\n",
              "      <button class=\"colab-df-convert\" onclick=\"convertToInteractive('df-694e3f88-e67a-4bdc-89b7-6ad138f918db')\"\n",
              "              title=\"Convert this dataframe to an interactive table.\"\n",
              "              style=\"display:none;\">\n",
              "        \n",
              "  <svg xmlns=\"http://www.w3.org/2000/svg\" height=\"24px\"viewBox=\"0 0 24 24\"\n",
              "       width=\"24px\">\n",
              "    <path d=\"M0 0h24v24H0V0z\" fill=\"none\"/>\n",
              "    <path d=\"M18.56 5.44l.94 2.06.94-2.06 2.06-.94-2.06-.94-.94-2.06-.94 2.06-2.06.94zm-11 1L8.5 8.5l.94-2.06 2.06-.94-2.06-.94L8.5 2.5l-.94 2.06-2.06.94zm10 10l.94 2.06.94-2.06 2.06-.94-2.06-.94-.94-2.06-.94 2.06-2.06.94z\"/><path d=\"M17.41 7.96l-1.37-1.37c-.4-.4-.92-.59-1.43-.59-.52 0-1.04.2-1.43.59L10.3 9.45l-7.72 7.72c-.78.78-.78 2.05 0 2.83L4 21.41c.39.39.9.59 1.41.59.51 0 1.02-.2 1.41-.59l7.78-7.78 2.81-2.81c.8-.78.8-2.07 0-2.86zM5.41 20L4 18.59l7.72-7.72 1.47 1.35L5.41 20z\"/>\n",
              "  </svg>\n",
              "      </button>\n",
              "      \n",
              "  <style>\n",
              "    .colab-df-container {\n",
              "      display:flex;\n",
              "      flex-wrap:wrap;\n",
              "      gap: 12px;\n",
              "    }\n",
              "\n",
              "    .colab-df-convert {\n",
              "      background-color: #E8F0FE;\n",
              "      border: none;\n",
              "      border-radius: 50%;\n",
              "      cursor: pointer;\n",
              "      display: none;\n",
              "      fill: #1967D2;\n",
              "      height: 32px;\n",
              "      padding: 0 0 0 0;\n",
              "      width: 32px;\n",
              "    }\n",
              "\n",
              "    .colab-df-convert:hover {\n",
              "      background-color: #E2EBFA;\n",
              "      box-shadow: 0px 1px 2px rgba(60, 64, 67, 0.3), 0px 1px 3px 1px rgba(60, 64, 67, 0.15);\n",
              "      fill: #174EA6;\n",
              "    }\n",
              "\n",
              "    [theme=dark] .colab-df-convert {\n",
              "      background-color: #3B4455;\n",
              "      fill: #D2E3FC;\n",
              "    }\n",
              "\n",
              "    [theme=dark] .colab-df-convert:hover {\n",
              "      background-color: #434B5C;\n",
              "      box-shadow: 0px 1px 3px 1px rgba(0, 0, 0, 0.15);\n",
              "      filter: drop-shadow(0px 1px 2px rgba(0, 0, 0, 0.3));\n",
              "      fill: #FFFFFF;\n",
              "    }\n",
              "  </style>\n",
              "\n",
              "      <script>\n",
              "        const buttonEl =\n",
              "          document.querySelector('#df-694e3f88-e67a-4bdc-89b7-6ad138f918db button.colab-df-convert');\n",
              "        buttonEl.style.display =\n",
              "          google.colab.kernel.accessAllowed ? 'block' : 'none';\n",
              "\n",
              "        async function convertToInteractive(key) {\n",
              "          const element = document.querySelector('#df-694e3f88-e67a-4bdc-89b7-6ad138f918db');\n",
              "          const dataTable =\n",
              "            await google.colab.kernel.invokeFunction('convertToInteractive',\n",
              "                                                     [key], {});\n",
              "          if (!dataTable) return;\n",
              "\n",
              "          const docLinkHtml = 'Like what you see? Visit the ' +\n",
              "            '<a target=\"_blank\" href=https://colab.research.google.com/notebooks/data_table.ipynb>data table notebook</a>'\n",
              "            + ' to learn more about interactive tables.';\n",
              "          element.innerHTML = '';\n",
              "          dataTable['output_type'] = 'display_data';\n",
              "          await google.colab.output.renderOutput(dataTable, element);\n",
              "          const docLink = document.createElement('div');\n",
              "          docLink.innerHTML = docLinkHtml;\n",
              "          element.appendChild(docLink);\n",
              "        }\n",
              "      </script>\n",
              "    </div>\n",
              "  </div>\n",
              "  "
            ]
          },
          "metadata": {},
          "execution_count": 4
        }
      ]
    },
    {
      "cell_type": "code",
      "source": [
        "image, label = next(iter(train_ds))\n",
        "\n",
        "plt.imshow(image, cmap='gray')\n",
        "plt.title('Label ' + str(label.numpy()))\n",
        "plt.axis('off')"
      ],
      "metadata": {
        "colab": {
          "base_uri": "https://localhost:8080/",
          "height": 445
        },
        "id": "yD8n5ZBRTXjj",
        "outputId": "4390ee48-02d5-4771-b7f7-4722b5cc552f"
      },
      "execution_count": 5,
      "outputs": [
        {
          "output_type": "execute_result",
          "data": {
            "text/plain": [
              "(-0.5, 27.5, 27.5, -0.5)"
            ]
          },
          "metadata": {},
          "execution_count": 5
        },
        {
          "output_type": "display_data",
          "data": {
            "text/plain": [
              "<Figure size 640x480 with 1 Axes>"
            ],
            "image/png": "[encoded data removed]"
          },
          "metadata": {}
        }
      ]
    },
    {
      "cell_type": "markdown",
      "source": [
        "# Data preprocessing"
      ],
      "metadata": {
        "id": "jBAbRupqc2PL"
      }
    },
    {
      "cell_type": "code",
      "source": [
        "IMG_SIZE = 28\n",
        "\n",
        "resize_and_rescale = Sequential([\n",
        "  Resizing(IMG_SIZE, IMG_SIZE),\n",
        "  Rescaling(1./255)\n",
        "])\n",
        "\n",
        "def img_preprocessing(image, label):\n",
        "  image = tf.cast(image, tf.float32)\n",
        "  image = resize_and_rescale(image)\n",
        "\n",
        "  return image, label\n"
      ],
      "metadata": {
        "id": "Q2-6PlAENQVv"
      },
      "execution_count": 6,
      "outputs": []
    },
    {
      "cell_type": "code",
      "source": [
        "train_ds = train_ds.map(img_preprocessing, num_parallel_calls=tf.data.experimental.AUTOTUNE)\n",
        "val_ds = val_ds.map(img_preprocessing, num_parallel_calls=tf.data.experimental.AUTOTUNE)\n",
        "test_ds = test_ds.map(img_preprocessing, num_parallel_calls=tf.data.experimental.AUTOTUNE)"
      ],
      "metadata": {
        "id": "_I8KFqGyNVSe"
      },
      "execution_count": 7,
      "outputs": []
    },
    {
      "cell_type": "code",
      "source": [
        "train_ds_count = train_ds.cardinality().numpy()\n",
        "train_ds = train_ds.shuffle(train_ds_count)"
      ],
      "metadata": {
        "id": "0uTJgQwykNUA"
      },
      "execution_count": 8,
      "outputs": []
    },
    {
      "cell_type": "markdown",
      "source": [
        "# Dataset optimization"
      ],
      "metadata": {
        "id": "CnaWI9rThFoI"
      }
    },
    {
      "cell_type": "code",
      "source": [
        "BATCH_SIZE = 32\n",
        "\n",
        "train_ds = train_ds.cache()\n",
        "train_ds = train_ds.batch(BATCH_SIZE)\n",
        "train_ds = train_ds.prefetch(tf.data.AUTOTUNE)\n",
        "\n",
        "val_ds = val_ds.cache()\n",
        "val_ds = val_ds.batch(BATCH_SIZE)\n",
        "val_ds = val_ds.prefetch(tf.data.AUTOTUNE)\n",
        "\n",
        "test_ds = test_ds.batch(BATCH_SIZE)\n",
        "test_ds = test_ds.prefetch(tf.data.AUTOTUNE)"
      ],
      "metadata": {
        "id": "fz9uHDsMO3Mp"
      },
      "execution_count": 9,
      "outputs": []
    },
    {
      "cell_type": "markdown",
      "source": [
        "# Estimator build"
      ],
      "metadata": {
        "id": "wDSxKIW9nmjp"
      }
    },
    {
      "cell_type": "code",
      "source": [
        "checkpoint_path = \"tmp/checkpoint\"\n",
        "\n",
        "early_stop = EarlyStopping(monitor='val_loss', mode='min', verbose=1, patience=25)\n",
        "model_checkpoint = ModelCheckpoint(\n",
        "    checkpoint_path, monitor=\"val_loss\", save_best_only=True, mode='min', save_weights_only=True, verbose=1\n",
        ")"
      ],
      "metadata": {
        "id": "ZHykVV0YAozJ"
      },
      "execution_count": 10,
      "outputs": []
    },
    {
      "cell_type": "code",
      "source": [
        "estimator = Sequential([\n",
        "    Input(metadata.features['image'].shape),\n",
        "    Conv2D(32, (3, 3), activation='relu', padding='same'),\n",
        "    MaxPooling2D((2, 2)),\n",
        "    Conv2D(64, (3, 3), activation='relu', padding='same'),\n",
        "    MaxPooling2D((2, 2)),\n",
        "    Conv2D(128, (3, 3), activation='relu', padding='same'),\n",
        "    MaxPooling2D((2, 2)),\n",
        "    Flatten(),\n",
        "    Dense(128, 'relu'),\n",
        "    Dropout(0.5),\n",
        "    Dense(200, 'relu'),\n",
        "    Dropout(0.5),\n",
        "    Dense(10, 'softmax'),\n",
        "])\n",
        "\n",
        "estimator.compile(loss='sparse_categorical_crossentropy', optimizer='adam')\n",
        "\n",
        "if os.path.exists(checkpoint_path): estimator.load_weights(checkpoint_path)"
      ],
      "metadata": {
        "id": "aiQCvqQyO3SI"
      },
      "execution_count": 11,
      "outputs": []
    },
    {
      "cell_type": "code",
      "source": [
        "estimator.summary()"
      ],
      "metadata": {
        "colab": {
          "base_uri": "https://localhost:8080/"
        },
        "id": "LpDi0gDdAmjr",
        "outputId": "e2d53f14-b84c-4a90-b589-dc188bba161c"
      },
      "execution_count": 12,
      "outputs": [
        {
          "output_type": "stream",
          "name": "stdout",
          "text": [
            "Model: \"sequential_1\"\n",
            "_________________________________________________________________\n",
            " Layer (type)                Output Shape              Param #   \n",
            "=================================================================\n",
            " conv2d (Conv2D)             (None, 28, 28, 32)        320       \n",
            "                                                                 \n",
            " max_pooling2d (MaxPooling2D  (None, 14, 14, 32)       0         \n",
            " )                                                               \n",
            "                                                                 \n",
            " conv2d_1 (Conv2D)           (None, 14, 14, 64)        18496     \n",
            "                                                                 \n",
            " max_pooling2d_1 (MaxPooling  (None, 7, 7, 64)         0         \n",
            " 2D)                                                             \n",
            "                                                                 \n",
            " conv2d_2 (Conv2D)           (None, 7, 7, 128)         73856     \n",
            "                                                                 \n",
            " max_pooling2d_2 (MaxPooling  (None, 3, 3, 128)        0         \n",
            " 2D)                                                             \n",
            "                                                                 \n",
            " flatten (Flatten)           (None, 1152)              0         \n",
            "                                                                 \n",
            " dense (Dense)               (None, 128)               147584    \n",
            "                                                                 \n",
            " dropout (Dropout)           (None, 128)               0         \n",
            "                                                                 \n",
            " dense_1 (Dense)             (None, 200)               25800     \n",
            "                                                                 \n",
            " dropout_1 (Dropout)         (None, 200)               0         \n",
            "                                                                 \n",
            " dense_2 (Dense)             (None, 10)                2010      \n",
            "                                                                 \n",
            "=================================================================\n",
            "Total params: 268,066\n",
            "Trainable params: 268,066\n",
            "Non-trainable params: 0\n",
            "_________________________________________________________________\n"
          ]
        }
      ]
    },
    {
      "cell_type": "code",
      "source": [
        "estimator.fit(train_ds, epochs=150, validation_data=val_ds, callbacks=[early_stop, model_checkpoint])"
      ],
      "metadata": {
        "colab": {
          "base_uri": "https://localhost:8080/"
        },
        "id": "Y1znOSFaAwhr",
        "outputId": "98c23e41-eaa0-486c-97c0-1d9c90676768"
      },
      "execution_count": 13,
      "outputs": [
        {
          "output_type": "stream",
          "name": "stdout",
          "text": [
            "Epoch 1/150\n",
            "1750/1750 [==============================] - ETA: 0s - loss: 0.3217\n",
            "Epoch 1: val_loss improved from inf to 0.06972, saving model to tmp/checkpoint\n",
            "1750/1750 [==============================] - 149s 78ms/step - loss: 0.3217 - val_loss: 0.0697\n",
            "Epoch 2/150\n",
            "1750/1750 [==============================] - ETA: 0s - loss: 0.1004\n",
            "Epoch 2: val_loss improved from 0.06972 to 0.04624, saving model to tmp/checkpoint\n",
            "1750/1750 [==============================] - 133s 76ms/step - loss: 0.1004 - val_loss: 0.0462\n",
            "Epoch 3/150\n",
            "1750/1750 [==============================] - ETA: 0s - loss: 0.0750\n",
            "Epoch 3: val_loss improved from 0.04624 to 0.04322, saving model to tmp/checkpoint\n",
            "1750/1750 [==============================] - 136s 78ms/step - loss: 0.0750 - val_loss: 0.0432\n",
            "Epoch 4/150\n",
            "1750/1750 [==============================] - ETA: 0s - loss: 0.0609\n",
            "Epoch 4: val_loss improved from 0.04322 to 0.03340, saving model to tmp/checkpoint\n",
            "1750/1750 [==============================] - 131s 75ms/step - loss: 0.0609 - val_loss: 0.0334\n",
            "Epoch 5/150\n",
            "1750/1750 [==============================] - ETA: 0s - loss: 0.0494\n",
            "Epoch 5: val_loss did not improve from 0.03340\n",
            "1750/1750 [==============================] - 128s 73ms/step - loss: 0.0494 - val_loss: 0.0336\n",
            "Epoch 6/150\n",
            "1750/1750 [==============================] - ETA: 0s - loss: 0.0403\n",
            "Epoch 6: val_loss improved from 0.03340 to 0.03156, saving model to tmp/checkpoint\n",
            "1750/1750 [==============================] - 124s 71ms/step - loss: 0.0403 - val_loss: 0.0316\n",
            "Epoch 7/150\n",
            "1750/1750 [==============================] - ETA: 0s - loss: 0.0367\n",
            "Epoch 7: val_loss did not improve from 0.03156\n",
            "1750/1750 [==============================] - 127s 72ms/step - loss: 0.0367 - val_loss: 0.0329\n",
            "Epoch 8/150\n",
            "1750/1750 [==============================] - ETA: 0s - loss: 0.0342\n",
            "Epoch 8: val_loss did not improve from 0.03156\n",
            "1750/1750 [==============================] - 124s 71ms/step - loss: 0.0342 - val_loss: 0.0615\n",
            "Epoch 9/150\n",
            "1750/1750 [==============================] - ETA: 0s - loss: 0.0305\n",
            "Epoch 9: val_loss did not improve from 0.03156\n",
            "1750/1750 [==============================] - 129s 74ms/step - loss: 0.0305 - val_loss: 0.0323\n",
            "Epoch 10/150\n",
            "1750/1750 [==============================] - ETA: 0s - loss: 0.0290\n",
            "Epoch 10: val_loss did not improve from 0.03156\n",
            "1750/1750 [==============================] - 125s 72ms/step - loss: 0.0290 - val_loss: 0.0353\n",
            "Epoch 11/150\n",
            "1750/1750 [==============================] - ETA: 0s - loss: 0.0259\n",
            "Epoch 11: val_loss did not improve from 0.03156\n",
            "1750/1750 [==============================] - 122s 70ms/step - loss: 0.0259 - val_loss: 0.0371\n",
            "Epoch 12/150\n",
            "1750/1750 [==============================] - ETA: 0s - loss: 0.0236\n",
            "Epoch 12: val_loss did not improve from 0.03156\n",
            "1750/1750 [==============================] - 127s 72ms/step - loss: 0.0236 - val_loss: 0.0436\n",
            "Epoch 13/150\n",
            "1750/1750 [==============================] - ETA: 0s - loss: 0.0207\n",
            "Epoch 13: val_loss did not improve from 0.03156\n",
            "1750/1750 [==============================] - 124s 71ms/step - loss: 0.0207 - val_loss: 0.0393\n",
            "Epoch 14/150\n",
            "1750/1750 [==============================] - ETA: 0s - loss: 0.0191\n",
            "Epoch 14: val_loss did not improve from 0.03156\n",
            "1750/1750 [==============================] - 128s 73ms/step - loss: 0.0191 - val_loss: 0.0481\n",
            "Epoch 15/150\n",
            "1750/1750 [==============================] - ETA: 0s - loss: 0.0201\n",
            "Epoch 15: val_loss did not improve from 0.03156\n",
            "1750/1750 [==============================] - 126s 72ms/step - loss: 0.0201 - val_loss: 0.0693\n",
            "Epoch 16/150\n",
            "1750/1750 [==============================] - ETA: 0s - loss: 0.0201\n",
            "Epoch 16: val_loss did not improve from 0.03156\n",
            "1750/1750 [==============================] - 125s 72ms/step - loss: 0.0201 - val_loss: 0.0386\n",
            "Epoch 17/150\n",
            "1750/1750 [==============================] - ETA: 0s - loss: 0.0193\n",
            "Epoch 17: val_loss did not improve from 0.03156\n",
            "1750/1750 [==============================] - 125s 72ms/step - loss: 0.0193 - val_loss: 0.0452\n",
            "Epoch 18/150\n",
            "1750/1750 [==============================] - ETA: 0s - loss: 0.0182\n",
            "Epoch 18: val_loss did not improve from 0.03156\n",
            "1750/1750 [==============================] - 124s 71ms/step - loss: 0.0182 - val_loss: 0.0432\n",
            "Epoch 19/150\n",
            "1750/1750 [==============================] - ETA: 0s - loss: 0.0170\n",
            "Epoch 19: val_loss did not improve from 0.03156\n",
            "1750/1750 [==============================] - 123s 70ms/step - loss: 0.0170 - val_loss: 0.0580\n",
            "Epoch 20/150\n",
            "1750/1750 [==============================] - ETA: 0s - loss: 0.0191\n",
            "Epoch 20: val_loss did not improve from 0.03156\n",
            "1750/1750 [==============================] - 125s 71ms/step - loss: 0.0191 - val_loss: 0.0530\n",
            "Epoch 21/150\n",
            "1750/1750 [==============================] - ETA: 0s - loss: 0.0146\n",
            "Epoch 21: val_loss did not improve from 0.03156\n",
            "1750/1750 [==============================] - 122s 70ms/step - loss: 0.0146 - val_loss: 0.0472\n",
            "Epoch 22/150\n",
            "1750/1750 [==============================] - ETA: 0s - loss: 0.0162\n",
            "Epoch 22: val_loss did not improve from 0.03156\n",
            "1750/1750 [==============================] - 122s 70ms/step - loss: 0.0162 - val_loss: 0.0427\n",
            "Epoch 23/150\n",
            "1750/1750 [==============================] - ETA: 0s - loss: 0.0183\n",
            "Epoch 23: val_loss did not improve from 0.03156\n",
            "1750/1750 [==============================] - 118s 68ms/step - loss: 0.0183 - val_loss: 0.0400\n",
            "Epoch 24/150\n",
            "1750/1750 [==============================] - ETA: 0s - loss: 0.0128\n",
            "Epoch 24: val_loss did not improve from 0.03156\n",
            "1750/1750 [==============================] - 120s 69ms/step - loss: 0.0128 - val_loss: 0.0651\n",
            "Epoch 25/150\n",
            "1750/1750 [==============================] - ETA: 0s - loss: 0.0143\n",
            "Epoch 25: val_loss did not improve from 0.03156\n",
            "1750/1750 [==============================] - 120s 68ms/step - loss: 0.0143 - val_loss: 0.0577\n",
            "Epoch 26/150\n",
            "1750/1750 [==============================] - ETA: 0s - loss: 0.0154\n",
            "Epoch 26: val_loss did not improve from 0.03156\n",
            "1750/1750 [==============================] - 120s 69ms/step - loss: 0.0154 - val_loss: 0.0575\n",
            "Epoch 27/150\n",
            "1750/1750 [==============================] - ETA: 0s - loss: 0.0149\n",
            "Epoch 27: val_loss did not improve from 0.03156\n",
            "1750/1750 [==============================] - 122s 70ms/step - loss: 0.0149 - val_loss: 0.0602\n",
            "Epoch 28/150\n",
            "1750/1750 [==============================] - ETA: 0s - loss: 0.0130\n",
            "Epoch 28: val_loss did not improve from 0.03156\n",
            "1750/1750 [==============================] - 124s 71ms/step - loss: 0.0130 - val_loss: 0.0432\n",
            "Epoch 29/150\n",
            "1750/1750 [==============================] - ETA: 0s - loss: 0.0135\n",
            "Epoch 29: val_loss did not improve from 0.03156\n",
            "1750/1750 [==============================] - 122s 70ms/step - loss: 0.0135 - val_loss: 0.0533\n",
            "Epoch 30/150\n",
            "1750/1750 [==============================] - ETA: 0s - loss: 0.0130\n",
            "Epoch 30: val_loss did not improve from 0.03156\n",
            "1750/1750 [==============================] - 124s 71ms/step - loss: 0.0130 - val_loss: 0.0715\n",
            "Epoch 31/150\n",
            "1750/1750 [==============================] - ETA: 0s - loss: 0.0143\n",
            "Epoch 31: val_loss did not improve from 0.03156\n",
            "1750/1750 [==============================] - 125s 71ms/step - loss: 0.0143 - val_loss: 0.0650\n",
            "Epoch 31: early stopping\n"
          ]
        },
        {
          "output_type": "execute_result",
          "data": {
            "text/plain": [
              "<keras.callbacks.History at 0x7fb3084c6d10>"
            ]
          },
          "metadata": {},
          "execution_count": 13
        }
      ]
    },
    {
      "cell_type": "markdown",
      "source": [
        "# Estimator validation performance"
      ],
      "metadata": {
        "id": "nXNr7T73Berg"
      }
    },
    {
      "cell_type": "code",
      "source": [
        "estimator_loss = pd.DataFrame(estimator.history.history)\n",
        "estimator_loss.plot()  "
      ],
      "metadata": {
        "colab": {
          "base_uri": "https://localhost:8080/",
          "height": 447
        },
        "id": "49O1Cz69BmiU",
        "outputId": "c58a877d-da8d-403f-cb27-60d4985132f0"
      },
      "execution_count": 14,
      "outputs": [
        {
          "output_type": "execute_result",
          "data": {
            "text/plain": [
              "<Axes: >"
            ]
          },
          "metadata": {},
          "execution_count": 14
        },
        {
          "output_type": "display_data",
          "data": {
            "text/plain": [
              "<Figure size 640x480 with 1 Axes>"
            ],
            "image/png": "[encoded data removed]"
          },
          "metadata": {}
        }
      ]
    },
    {
      "cell_type": "code",
      "source": [
        "y_hat_val = estimator.predict(val_ds)\n",
        "y_hat_val = y_hat_val.argmax(axis=1)\n",
        "\n",
        "y_true_val = tf.concat([label for _, label in val_ds], axis=0).numpy()"
      ],
      "metadata": {
        "colab": {
          "base_uri": "https://localhost:8080/"
        },
        "id": "P4tgjhxaBrpV",
        "outputId": "36502e72-9662-4156-dd61-aeec27307003"
      },
      "execution_count": 15,
      "outputs": [
        {
          "output_type": "stream",
          "name": "stdout",
          "text": [
            "219/219 [==============================] - 8s 34ms/step\n"
          ]
        }
      ]
    },
    {
      "cell_type": "code",
      "source": [
        "confusion_matrix(y_true_val, y_hat_val)"
      ],
      "metadata": {
        "colab": {
          "base_uri": "https://localhost:8080/"
        },
        "id": "4QbDre30CSLn",
        "outputId": "0a215a0e-18cf-4093-b3f5-05ad2d6e0c3f"
      },
      "execution_count": 16,
      "outputs": [
        {
          "output_type": "execute_result",
          "data": {
            "text/plain": [
              "<tf.Tensor: shape=(10, 10), dtype=int32, numpy=\n",
              "array([[692,   0,   0,   0,   0,   0,   1,   0,   0,   0],\n",
              "       [  0, 792,   1,   0,   0,   0,   1,   0,   0,   1],\n",
              "       [  1,   0, 693,   0,   0,   0,   0,   3,   0,   0],\n",
              "       [  1,   0,   2, 679,   0,   3,   0,   2,   0,   1],\n",
              "       [  0,   1,   0,   0, 671,   0,   0,   1,   0,   3],\n",
              "       [  2,   0,   0,   0,   0, 582,   5,   0,   0,   0],\n",
              "       [  2,   0,   0,   0,   0,   0, 721,   0,   0,   0],\n",
              "       [  0,   3,   2,   1,   0,   0,   0, 728,   0,   2],\n",
              "       [  1,   1,   2,   2,   1,   4,   5,   0, 678,   3],\n",
              "       [  0,   0,   0,   2,   1,   0,   0,   5,   0, 698]], dtype=int32)>"
            ]
          },
          "metadata": {},
          "execution_count": 16
        }
      ]
    },
    {
      "cell_type": "code",
      "source": [
        "print(classification_report(y_true_val, y_hat_val))"
      ],
      "metadata": {
        "colab": {
          "base_uri": "https://localhost:8080/"
        },
        "id": "OuOfcNDYkPPO",
        "outputId": "2101e53a-ef53-4d1c-fa47-b9c8ffd3d01d"
      },
      "execution_count": 17,
      "outputs": [
        {
          "output_type": "stream",
          "name": "stdout",
          "text": [
            "              precision    recall  f1-score   support\n",
            "\n",
            "           0       0.99      1.00      0.99       693\n",
            "           1       0.99      1.00      0.99       795\n",
            "           2       0.99      0.99      0.99       697\n",
            "           3       0.99      0.99      0.99       688\n",
            "           4       1.00      0.99      0.99       676\n",
            "           5       0.99      0.99      0.99       589\n",
            "           6       0.98      1.00      0.99       723\n",
            "           7       0.99      0.99      0.99       736\n",
            "           8       1.00      0.97      0.99       697\n",
            "           9       0.99      0.99      0.99       706\n",
            "\n",
            "    accuracy                           0.99      7000\n",
            "   macro avg       0.99      0.99      0.99      7000\n",
            "weighted avg       0.99      0.99      0.99      7000\n",
            "\n"
          ]
        }
      ]
    },
    {
      "cell_type": "markdown",
      "source": [
        "#Estimator test performance"
      ],
      "metadata": {
        "id": "F5TGhigXlNXJ"
      }
    },
    {
      "cell_type": "code",
      "source": [
        "y_hat_test = estimator.predict(test_ds)\n",
        "y_hat_test = y_hat_test.argmax(axis=1)\n",
        "\n",
        "y_true_test = tf.concat([label for _, label in test_ds], axis=0).numpy()"
      ],
      "metadata": {
        "colab": {
          "base_uri": "https://localhost:8080/"
        },
        "id": "hzJfqogRCWBF",
        "outputId": "270809df-9069-4ac7-ea0a-71de29ea2043"
      },
      "execution_count": 18,
      "outputs": [
        {
          "output_type": "stream",
          "name": "stdout",
          "text": [
            "219/219 [==============================] - 5s 20ms/step\n"
          ]
        }
      ]
    },
    {
      "cell_type": "code",
      "source": [
        "confusion_matrix(y_true_test, y_hat_test)"
      ],
      "metadata": {
        "colab": {
          "base_uri": "https://localhost:8080/"
        },
        "id": "U6ROdgN-laDd",
        "outputId": "968e7bf3-f6c4-45dc-b8e0-c9d53c20f0b4"
      },
      "execution_count": 19,
      "outputs": [
        {
          "output_type": "execute_result",
          "data": {
            "text/plain": [
              "<tf.Tensor: shape=(10, 10), dtype=int32, numpy=\n",
              "array([[489,  21,  16,  25,  19,  22,  21,  14,  16,  16],\n",
              "       [ 15, 600,  19,  21,  22,  18,  17,  26,  22,  26],\n",
              "       [ 19,  21, 521,  24,  16,  20,  20,  18,  12,  20],\n",
              "       [ 27,  28,  23, 533,  13,  32,  19,  19,  14,  21],\n",
              "       [ 16,  14,  24,  21, 511,  17,  21,  25,  26,  33],\n",
              "       [ 25,  20,  22,  19,  19, 484,  24,  17,  15,  23],\n",
              "       [ 14,  18,  12,  16,  21,  23, 504,  23,  18,  17],\n",
              "       [ 14,  23,  24,  22,  23,  17,  13, 554,  24,  19],\n",
              "       [ 16,  19,  23,  20,  28,  21,  23,  11, 502,  11],\n",
              "       [ 24,  17,  17,  19,  27,  17,  16,  27,  11, 511]], dtype=int32)>"
            ]
          },
          "metadata": {},
          "execution_count": 19
        }
      ]
    },
    {
      "cell_type": "code",
      "source": [
        "print(classification_report(y_true_test, y_hat_test))"
      ],
      "metadata": {
        "colab": {
          "base_uri": "https://localhost:8080/"
        },
        "id": "LDbim6A0lmYR",
        "outputId": "6cbab098-445c-40b6-bf9c-070e50db70d6"
      },
      "execution_count": 20,
      "outputs": [
        {
          "output_type": "stream",
          "name": "stdout",
          "text": [
            "              precision    recall  f1-score   support\n",
            "\n",
            "           0       0.74      0.74      0.74       659\n",
            "           1       0.77      0.76      0.77       786\n",
            "           2       0.74      0.75      0.75       691\n",
            "           3       0.74      0.73      0.74       729\n",
            "           4       0.73      0.72      0.73       708\n",
            "           5       0.72      0.72      0.72       668\n",
            "           6       0.74      0.76      0.75       666\n",
            "           7       0.75      0.76      0.76       733\n",
            "           8       0.76      0.74      0.75       674\n",
            "           9       0.73      0.74      0.74       686\n",
            "\n",
            "    accuracy                           0.74      7000\n",
            "   macro avg       0.74      0.74      0.74      7000\n",
            "weighted avg       0.74      0.74      0.74      7000\n",
            "\n"
          ]
        }
      ]
    },
    {
      "cell_type": "markdown",
      "source": [
        "# Estimator storage"
      ],
      "metadata": {
        "id": "7sJiV5GnlxCq"
      }
    },
    {
      "cell_type": "code",
      "source": [
        "json_estimator = estimator.to_json()\n",
        "\n",
        "with open('estimator_result.json', 'w') as json_file:\n",
        "    json_file.write(json_estimator)"
      ],
      "metadata": {
        "id": "0ZpxfOqdEVAM"
      },
      "execution_count": 21,
      "outputs": []
    }
  ]
}